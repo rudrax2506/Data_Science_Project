import json

# Function to load the JSON data
def load_data(filename):
    with open(filename, "r") as f:
        return json.load(f)

# Function to find pages a user might like based on common interests
def find_pages_you_might_like(user_id, data):
    user_pages = {}
    for user in data['users']:
        user_pages[user['id']] = set(user['liked_pages'])

    if user_id not in user_pages:
        return []

    user_liked_pages = user_pages[user_id]
    page_suggestions = {}

    for other_user, pages in user_pages.items():
        if other_user != user_id:
            shared_pages = user_liked_pages.intersection(pages)
            for page in pages:
                if page not in user_liked_pages:
                    page_suggestions[page] = page_suggestions.get(page, 0) + len(shared_pages)

    sorted_pages = sorted(page_suggestions.items(), key=lambda x: x[1], reverse=True)
    return [(page_id, score) for page_id, score in sorted_pages if score > 0]

# Load data
data = load_data("data.json")

# Generate and print recommendations for all users
for user in data['users']:
    user_id = user['id']
    user_name = user.get('name', f"User {user_id}")
    recommendations = find_pages_you_might_like(user_id, data)
    
    print(f"\nRecommendations for {user_name} (User ID: {user_id}):")
    if recommendations:
        for page_id, score in recommendations:
            print(f"  - Page ID {page_id} (Score: {score})")
    else:
        print("  No new page recommendations found.")
