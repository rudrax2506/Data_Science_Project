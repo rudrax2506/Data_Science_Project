#Load the Data

def clean_data(data):
    # Remove users with missing name
    data["users"] = [user for user in data["users"] if user["name"].strip()]
    # Remove duplicate friends
    for user in data["users"]:
        user['friends'] = list(set(user['friends']))
    # Remove duplicate friends
    data["users"] = [user for user in data["users"] if user["friends"] or user["liked_pages"]]

    # Remove the duplicate pages
    unique_pages = {}
    for page in data["pages"]:
        unique_pages[page["id"]] = page
    data["pages"]= list(unique_pages.values())
    return data  
    
data = json.load(open("data2.json"))
data = clean_data(data)
json.dump(data, open("cleaned_data2.json", "w"), indent=1)
print("Data has been cleaned now")
